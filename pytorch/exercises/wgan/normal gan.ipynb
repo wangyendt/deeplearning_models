{
 "cells": [
  {
   "cell_type": "code",
   "execution_count": null,
   "metadata": {
    "ExecuteTime": {
     "end_time": "2019-02-28T03:26:19.142327Z",
     "start_time": "2019-02-28T03:26:18.598649Z"
    }
   },
   "outputs": [],
   "source": [
    "import os\n",
    "import numpy as np\n",
    "import pandas as pd\n",
    "import matplotlib.pyplot as plt\n",
    "import torch\n",
    "import torch.nn as nn\n",
    "import torch.nn.functional as F\n",
    "from torch.autograd import Variable"
   ]
  },
  {
   "cell_type": "code",
   "execution_count": null,
   "metadata": {
    "ExecuteTime": {
     "end_time": "2019-02-28T03:26:19.642314Z",
     "start_time": "2019-02-28T03:26:19.637328Z"
    }
   },
   "outputs": [],
   "source": [
    "def list_all_files(rootdir, key):\n",
    "    import os\n",
    "    _files = []\n",
    "    list = os.listdir(rootdir)  # 列出文件夹下所有的目录与文件\n",
    "    for i in range(0, len(list)):\n",
    "        path = os.path.join(rootdir, list[i])\n",
    "        if os.path.isdir(path):\n",
    "            _files.extend(list_all_files(path, key))\n",
    "        if os.path.isfile(path) and key in path:\n",
    "            _files.append(path)\n",
    "    return _files"
   ]
  },
  {
   "cell_type": "code",
   "execution_count": null,
   "metadata": {
    "ExecuteTime": {
     "end_time": "2019-02-28T03:26:19.840489Z",
     "start_time": "2019-02-28T03:26:19.836499Z"
    }
   },
   "outputs": [],
   "source": [
    "def load_data():\n",
    "    global df, df_ind\n",
    "    root = '.'\n",
    "    key = '10_'\n",
    "    files = list_all_files(root, key)\n",
    "    for f in files:\n",
    "        yield extract_signal(f)"
   ]
  },
  {
   "cell_type": "code",
   "execution_count": null,
   "metadata": {
    "ExecuteTime": {
     "end_time": "2019-02-28T03:26:19.994520Z",
     "start_time": "2019-02-28T03:26:19.989506Z"
    }
   },
   "outputs": [],
   "source": [
    "def extract_signal(f):\n",
    "    data = pd.read_table(f, header=None, skiprows=1)\n",
    "    rawdata = np.array(data.iloc[:, 19:21])\n",
    "    force_flag = np.array(data.iloc[:, 2])\n",
    "    tds = np.where(np.diff(force_flag) == 1)[0]\n",
    "    print(len(tds))\n",
    "    x_data = np.array([np.diff(rawdata[i - 3:i + 13, :], axis=0).T.flatten() for i in tds])\n",
    "    x_data = x_data[np.max(x_data, axis=1) > 20]\n",
    "    x_data = x_data.T\n",
    "    x_data = np.apply_along_axis(\n",
    "        lambda x: (x - np.min(x)) / (np.max(x) - np.min(x)), 0, x_data\n",
    "    )\n",
    "    x_data = (x_data - 0.5) * 2\n",
    "    print(x_data.max(), x_data.min())\n",
    "    return x_data"
   ]
  },
  {
   "cell_type": "code",
   "execution_count": null,
   "metadata": {
    "ExecuteTime": {
     "end_time": "2019-02-28T03:26:20.135817Z",
     "start_time": "2019-02-28T03:26:20.132802Z"
    }
   },
   "outputs": [],
   "source": [
    "def make_data():\n",
    "    sample = np.random.choice(datas.shape[0], batch_size, False)\n",
    "    return datas[sample]"
   ]
  },
  {
   "cell_type": "code",
   "execution_count": null,
   "metadata": {
    "ExecuteTime": {
     "end_time": "2019-02-28T03:26:20.299545Z",
     "start_time": "2019-02-28T03:26:20.296526Z"
    }
   },
   "outputs": [],
   "source": [
    "def make_noise():\n",
    "    return np.random.uniform(-1, 1, (batch_size, generator_len))"
   ]
  },
  {
   "cell_type": "code",
   "execution_count": null,
   "metadata": {
    "ExecuteTime": {
     "end_time": "2019-02-28T03:27:05.091953Z",
     "start_time": "2019-02-28T03:27:05.081980Z"
    }
   },
   "outputs": [],
   "source": [
    "def train():\n",
    "    d_optim = torch.optim.Adam(D.parameters(), d_lr)\n",
    "    g_optim = torch.optim.Adam(G.parameters(), g_lr)\n",
    "\n",
    "    plt.ion()\n",
    "\n",
    "    for epoch in range(epochs):\n",
    "        D.train(), G.train()\n",
    "        data_batch = make_data()\n",
    "        gen_batch = make_noise()\n",
    "        data_batch, gen_batch = Variable(torch.FloatTensor(data_batch)), \\\n",
    "                                Variable(torch.FloatTensor(gen_batch))\n",
    "        d_loss = -(torch.mean(torch.log(D(data_batch)) + torch.log(1 - D(G(gen_batch)))))\n",
    "        g_loss = torch.mean(torch.log(1 - D(G(gen_batch))))\n",
    "\n",
    "        d_optim.zero_grad()\n",
    "        d_loss.backward(retain_graph=True)\n",
    "        d_optim.step()\n",
    "        g_optim.zero_grad()\n",
    "        g_loss.backward()\n",
    "        g_optim.step()\n",
    "\n",
    "        if epoch % 50 == 0:\n",
    "            D.eval(), G.eval()\n",
    "            plt.clf()\n",
    "            plt.suptitle('epoch=%d' % epoch)\n",
    "            for i in range(16):\n",
    "                plt.subplot(4, 4, i + 1)\n",
    "                gen_diff = G(gen_batch).detach().numpy()\n",
    "                gen_raw = np.hstack((np.cumsum(gen_diff[:, :int(data_len / 2)], axis=1),\n",
    "                                     np.cumsum(gen_diff[:, int(data_len / 2):], axis=1)))\n",
    "                plt.plot(gen_raw[i])\n",
    "                plt.text(15, 3.0, 'D-loss: %.4f' % d_loss.item())\n",
    "                plt.text(15, 2.5, 'D-accuracy: %.3f' % D(G(gen_batch)).detach().numpy().mean())\n",
    "                plt.text(15, 2, 'G-loss: %.4f' % g_loss.item())\n",
    "                plt.xlim((0, 30))\n",
    "                plt.ylim((-2, 2))\n",
    "            plt.pause(0.01)"
   ]
  },
  {
   "cell_type": "code",
   "execution_count": null,
   "metadata": {
    "ExecuteTime": {
     "start_time": "2019-02-28T03:27:05.472Z"
    }
   },
   "outputs": [],
   "source": [
    "if __name__ == '__main__':\n",
    "    datas = load_data()\n",
    "    datas = np.hstack([d for d in datas]).T\n",
    "\n",
    "    batch_size = 32\n",
    "    generator_len = 20\n",
    "    data_len = 30\n",
    "    epochs = 200000\n",
    "    d_lr = 0.0001\n",
    "    g_lr = 0.0001\n",
    "\n",
    "    D = nn.Sequential(\n",
    "        nn.Linear(data_len, 32),\n",
    "        nn.Dropout(0.5),\n",
    "        nn.ReLU(),\n",
    "        nn.Linear(32, 16),\n",
    "        nn.Dropout(0.5),\n",
    "        nn.ReLU(),\n",
    "        nn.Linear(16, 4),\n",
    "        nn.Dropout(0.5),\n",
    "        nn.ReLU(),\n",
    "        nn.Linear(4, 1),\n",
    "        nn.Sigmoid()\n",
    "    )\n",
    "\n",
    "    G = nn.Sequential(\n",
    "        nn.Linear(generator_len, 30),\n",
    "        nn.ReLU(),\n",
    "        nn.Linear(30, 30),\n",
    "        nn.ReLU(),\n",
    "        nn.Linear(30, data_len),\n",
    "        nn.Tanh()\n",
    "    )\n",
    "\n",
    "    x = np.tile(np.linspace(-1, 1, data_len), [batch_size, 1])\n",
    "    make_data()\n",
    "    train()\n",
    "    torch.save(D, 'D.model')\n",
    "    torch.save(G, 'G.model')"
   ]
  },
  {
   "cell_type": "code",
   "execution_count": null,
   "metadata": {},
   "outputs": [],
   "source": []
  }
 ],
 "metadata": {
  "kernelspec": {
   "display_name": "Python 3",
   "language": "python",
   "name": "python3"
  },
  "language_info": {
   "codemirror_mode": {
    "name": "ipython",
    "version": 3
   },
   "file_extension": ".py",
   "mimetype": "text/x-python",
   "name": "python",
   "nbconvert_exporter": "python",
   "pygments_lexer": "ipython3",
   "version": "3.6.5"
  },
  "latex_envs": {
   "LaTeX_envs_menu_present": true,
   "autoclose": false,
   "autocomplete": true,
   "bibliofile": "biblio.bib",
   "cite_by": "apalike",
   "current_citInitial": 1,
   "eqLabelWithNumbers": true,
   "eqNumInitial": 1,
   "hotkeys": {
    "equation": "Ctrl-E",
    "itemize": "Ctrl-I"
   },
   "labels_anchors": false,
   "latex_user_defs": false,
   "report_style_numbering": false,
   "user_envs_cfg": false
  },
  "nbTranslate": {
   "displayLangs": [
    "*"
   ],
   "hotkey": "alt-t",
   "langInMainMenu": true,
   "sourceLang": "en",
   "targetLang": "fr",
   "useGoogleTranslate": true
  },
  "toc": {
   "base_numbering": 1,
   "nav_menu": {},
   "number_sections": true,
   "sideBar": true,
   "skip_h1_title": false,
   "title_cell": "Table of Contents",
   "title_sidebar": "Contents",
   "toc_cell": false,
   "toc_position": {},
   "toc_section_display": true,
   "toc_window_display": false
  },
  "varInspector": {
   "cols": {
    "lenName": 16,
    "lenType": 16,
    "lenVar": 40
   },
   "kernels_config": {
    "python": {
     "delete_cmd_postfix": "",
     "delete_cmd_prefix": "del ",
     "library": "var_list.py",
     "varRefreshCmd": "print(var_dic_list())"
    },
    "r": {
     "delete_cmd_postfix": ") ",
     "delete_cmd_prefix": "rm(",
     "library": "var_list.r",
     "varRefreshCmd": "cat(var_dic_list()) "
    }
   },
   "types_to_exclude": [
    "module",
    "function",
    "builtin_function_or_method",
    "instance",
    "_Feature"
   ],
   "window_display": false
  }
 },
 "nbformat": 4,
 "nbformat_minor": 2
}
